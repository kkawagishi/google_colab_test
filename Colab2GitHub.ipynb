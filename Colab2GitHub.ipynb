{
  "nbformat": 4,
  "nbformat_minor": 0,
  "metadata": {
    "colab": {
      "private_outputs": true,
      "provenance": [],
      "authorship_tag": "ABX9TyPTPoJVXXOl5AftZHFp+lUT",
      "include_colab_link": true
    },
    "kernelspec": {
      "name": "python3",
      "display_name": "Python 3"
    },
    "language_info": {
      "name": "python"
    }
  },
  "cells": [
    {
      "cell_type": "markdown",
      "metadata": {
        "id": "view-in-github",
        "colab_type": "text"
      },
      "source": [
        "<a href=\"https://colab.research.google.com/github/kkawagishi/google_colab_test/blob/main/Colab2GitHub.ipynb\" target=\"_parent\"><img src=\"https://colab.research.google.com/assets/colab-badge.svg\" alt=\"Open In Colab\"/></a>"
      ]
    },
    {
      "cell_type": "code",
      "execution_count": null,
      "metadata": {
        "id": "QG4apq1CKKA0"
      },
      "outputs": [],
      "source": [
        "# jupyter-dashのインストール\n",
        "!pip install jupyter-dash==0.4.0\n",
        "\n",
        "#dash_bootstrap_componentsのインストール\n",
        "!pip install dash_bootstrap_components==0.13.1"
      ]
    }
  ]
}